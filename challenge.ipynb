{
 "cells": [
  {
   "cell_type": "code",
   "execution_count": null,
   "metadata": {},
   "outputs": [],
   "source": [
    "# return\n",
    "\n",
    "def tax_calc(money = 3500):\n",
    "    print(money * 0.35) \n",
    "    \n",
    "def pay_tax(tax= \"sick\"):\n",
    "    print(\"thank you for paying\", tax)\n",
    "\n",
    "tax_calc(150000000)\n",
    "pay_tax(52500000) # tax_calc의 값을 콘솔에서 받아와서 써야 하는 불편함이 있다.\n",
    "\n",
    "def tax_calc(money = 3500):\n",
    "    return money * 0.35 # 주스 기계에 과일(데이터)을 넣으면 주스가 나오는데, return 키워드의 역할이라 할 수 있다. \n",
    "    # return 은 함수의 바깥으로 값을 보낼 수 있게 해준다. !!! 안에만 있으면 쓰임이 지역변수(?). 전역변수로 가자.\n",
    "def pay_tax(tax= \"sick\"):\n",
    "    print(\"thank you for paying\", tax)\n",
    "\n",
    "to_pay = tax_calc(150000000) # return 했기에 콘솔에 나오는 값을 이 위치에 저장할 것이다.\n",
    "# 15000000이 과일이고 tax_calc 함수를 통해 주스(콘솔 값)가 나온다.\n",
    "''' to_pay는 tax_calc 함수의 return 값과 동일하다. '''\n",
    "pay_tax(to_pay) # 따라서 to_pay를 인수로 넣어도 같다 # pay_tax(52500000)\n",
    "\n",
    "'''pay_tax(tax_calc(15000000)) 와 같다.'''"
   ]
  }
 ],
 "metadata": {
  "language_info": {
   "name": "python"
  },
  "orig_nbformat": 4
 },
 "nbformat": 4,
 "nbformat_minor": 2
}
