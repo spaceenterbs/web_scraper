{
 "cells": [
  {
   "cell_type": "code",
   "execution_count": 1,
   "metadata": {},
   "outputs": [
    {
     "name": "stdout",
     "output_type": "stream",
     "text": [
      "hell0 world\n"
     ]
    }
   ],
   "source": [
    "print('hell0 world')"
   ]
  },
  {
   "cell_type": "code",
   "execution_count": 2,
   "metadata": {},
   "outputs": [
    {
     "name": "stdout",
     "output_type": "stream",
     "text": [
      "5\n"
     ]
    }
   ],
   "source": [
    "# create variables\n",
    "a = 2 # 메모리 주소로 접근하는 것보다 변수 선언이 좋다.\n",
    "b = 3\n",
    "c = a + b\n",
    "# c = 1 // 1\n",
    "# b = 10 // 5\n",
    "print(c) # 파이썬은 위에서 아래로 읽는다.\n",
    "# my_age // snakecase # 변수는 숫자나 특수문자로 시작하지 못한다.\n",
    "# myAge // camelcase 자스에서 쓰인다."
   ]
  },
  {
   "cell_type": "code",
   "execution_count": 3,
   "metadata": {},
   "outputs": [
    {
     "name": "stdout",
     "output_type": "stream",
     "text": [
      "sick\n"
     ]
    }
   ],
   "source": [
    "my_name = \"sick\"\n",
    "print(my_name)\n",
    "\n",
    "dead = True # or False = boolean"
   ]
  },
  {
   "cell_type": "code",
   "execution_count": 6,
   "metadata": {},
   "outputs": [
    {
     "name": "stdout",
     "output_type": "stream",
     "text": [
      "Hello my name is sick\n",
      "and I'm 30 years old\n",
      "and I'm False years old\n"
     ]
    }
   ],
   "source": [
    "my_name = 'sick'\n",
    "age = 30\n",
    "dead = False\n",
    "print('Hello my name is', my_name)\n",
    "print(\"and I'm\", age, \"years old\") # ,로 나뉘면 한칸씩 띈다.\n",
    "print(\"and I'm\", dead, \"years old\") # ,로 나뉘면 한칸씩 띈다."
   ]
  },
  {
   "cell_type": "code",
   "execution_count": 9,
   "metadata": {},
   "outputs": [
    {
     "name": "stdout",
     "output_type": "stream",
     "text": [
      "1\n",
      "hell0 True 30\n"
     ]
    }
   ],
   "source": [
    "print(1) # function\n",
    "print('hell0', True, 30)"
   ]
  },
  {
   "cell_type": "code",
   "execution_count": 11,
   "metadata": {},
   "outputs": [
    {
     "name": "stdout",
     "output_type": "stream",
     "text": [
      "bye\n",
      "hello how r u?\n"
     ]
    }
   ],
   "source": [
    "def say_hello(): # 함수도 숫자, 특수문자로 시작 X # def = creating 만든다는 개념\n",
    "    print(\"hello how r u?\") # 다른 언어는 괄호에 넣으면 공백은 상관없다.\n",
    "\n",
    "def say_bye():\n",
    "    print(\"bye\") # 실행할 코드가 안에 있다는 것을 알려줌\n",
    "    say_hello() # tab or 2 spaces\n",
    "    \n",
    "say_bye() # 괄호는 시작이고 그 안에 값을 넣으면 ㅣ\n"
   ]
  },
  {
   "cell_type": "code",
   "execution_count": 18,
   "metadata": {},
   "outputs": [
    {
     "name": "stdout",
     "output_type": "stream",
     "text": [
      "hello how r u? sick 12 how are you?\n",
      "hello sick\n",
      "you are 12 years old\n"
     ]
    }
   ],
   "source": [
    "def say_hello(user_name, user_age): # user_name은 함수 내에서만 작동한다.\n",
    "    # parameter = just a placeholder(그릇), 함수로 전달하는 데이터를 저장하기 위한.\n",
    "    # parameter = 함수 안으로 데이터를 보내 함수의 결과를 바꿀 수 있게 해주는 것.\n",
    "    print(\"hello how r u?\", user_name, user_age, \"how are you?\") # comma 사용 가능\n",
    "    print(\"hello\", user_name)\n",
    "    print(\"you are\", user_age, \"years old\") # how many = as many parameter\n",
    "    \n",
    "say_hello(\"sick\", 12) # argument = data"
   ]
  },
  {
   "cell_type": "code",
   "execution_count": 20,
   "metadata": {},
   "outputs": [
    {
     "name": "stdout",
     "output_type": "stream",
     "text": [
      "52.5\n",
      "524999999.99999994\n"
     ]
    }
   ],
   "source": [
    "def tax_calculator(money):\n",
    "    print(money * 0.35) # money를 1500000으로 하는 것이 아닌.\n",
    "    \n",
    "tax_calculator(150)\n",
    "tax_calculator(1500000000)"
   ]
  },
  {
   "cell_type": "code",
   "execution_count": 22,
   "metadata": {},
   "outputs": [
    {
     "name": "stdout",
     "output_type": "stream",
     "text": [
      "hello sick\n",
      "hello anonymous\n"
     ]
    }
   ],
   "source": [
    "def say_hello(user_name=\"anonymous\"): # default value\n",
    "    print(\"hello\", user_name)\n",
    "\n",
    "say_hello(\"sick\")\n",
    "say_hello()"
   ]
  },
  {
   "cell_type": "code",
   "execution_count": 25,
   "metadata": {},
   "outputs": [
    {
     "name": "stdout",
     "output_type": "stream",
     "text": [
      "14\n",
      "2\n",
      "48\n",
      "1.3333333333333333\n",
      "262144\n"
     ]
    }
   ],
   "source": [
    "def plus(a=30, b=10):\n",
    "    print(a + b)\n",
    "    print(a - b)\n",
    "    print(a * b)\n",
    "    print(a / b)\n",
    "    print(a ** b)\n",
    "    \n",
    "# - * / **\n",
    "\n",
    "plus(8, 6)\n"
   ]
  },
  {
   "cell_type": "code",
   "execution_count": 31,
   "metadata": {},
   "outputs": [
    {
     "name": "stdout",
     "output_type": "stream",
     "text": [
      "52500000.0\n",
      "thank you for paying 52500000.0\n"
     ]
    }
   ],
   "source": [
    "# return\n",
    "\n",
    "def tax_calc(money = 3500):\n",
    "    print(money * 0.35) \n",
    "    \n",
    "def pay_tax(tax= \"sick\"):\n",
    "    print(\"thank you for paying\", tax)\n",
    "\n",
    "tax_calc(150000000)\n",
    "pay_tax(52500000) # tax_calc의 값을 콘솔에서 받아와서 써야 하는 불편함이 있다.\n",
    "\n",
    "def tax_calc(money = 3500):\n",
    "    return money * 0.35 # 주스 기계에 과일(데이터)을 넣으면 주스가 나오는데, return 키워드의 역할이라 할 수 있다. \n",
    "    # return 은 함수의 바깥으로 값을 보낼 수 있게 해준다. !!! 안에만 있으면 쓰임이 지역변수(?). 전역변수로 가자.\n",
    "def pay_tax(tax= \"sick\"):\n",
    "    print(\"thank you for paying\", tax)\n",
    "\n",
    "to_pay = tax_calc(150000000) # return 했기에 콘솔에 나오는 값을 이 위치에 저장할 것이다.\n",
    "# 15000000이 과일이고 tax_calc 함수를 통해 주스(콘솔 값)가 나온다.\n",
    "''' to_pay는 tax_calc 함수의 return 값과 동일하다. '''\n",
    "pay_tax(to_pay) # 따라서 to_pay를 인수로 넣어도 같다 # pay_tax(52500000)\n",
    "\n",
    "'''pay_tax(tax_calc(15000000)) 와 같다.'''"
   ]
  },
  {
   "cell_type": "code",
   "execution_count": 32,
   "metadata": {},
   "outputs": [
    {
     "name": "stdout",
     "output_type": "stream",
     "text": [
      "Hello I'm sick, I have 30 years in the earth, brown is my eye color\n"
     ]
    }
   ],
   "source": [
    "my_name = \"sick\"\n",
    "my_age = 30\n",
    "my_color_eyes = \"brown\"\n",
    "\n",
    "print(f\"Hello I'm {my_name}, I have {my_age} years in the earth, {my_color_eyes} is my eye color\")"
   ]
  },
  {
   "cell_type": "code",
   "execution_count": 36,
   "metadata": {},
   "outputs": [
    {
     "name": "stdout",
     "output_type": "stream",
     "text": [
      "🍎+🥤\n",
      "🍎+🥤+🧊\n",
      "🍎+🥤+🧊+🍬\n",
      "🍎+🥤+🧊+🍬\n"
     ]
    }
   ],
   "source": [
    "# to hammer the concept of \"return\", make juice maker app.\n",
    "def make_juice(fruit):\n",
    "    return f\"{fruit}+🥤\" # return kills the function\n",
    "    print('la') # doesn't work\n",
    "\n",
    "def add_ice(juice):\n",
    "    return f\"{juice}+🧊\"\n",
    "\n",
    "def add_sugar(iced_juice):\n",
    "    return f\"{iced_juice}+🍬\"\n",
    "\n",
    "juice = make_juice(\"🍎\") # juice는 make_juice 함수의 return 값과 동일한 변수다.\n",
    "print(juice)\n",
    "cold_juice = add_ice(juice)\n",
    "print(cold_juice)\n",
    "perfect_juice = add_sugar(cold_juice)\n",
    "\n",
    "juice = \"🍎+🥤\"\n",
    "cold_juice = \"🍎+🥤+🧊\"\n",
    "perfect_juice = \"🍎+🥤+🧊+🍬\" # return 은 함수 바깥으로 값을 보내주고 python 은 그 값을 가져다가 코드 상에 대입해준다.\n",
    "\n",
    "print(perfect_juice)\n"
   ]
  },
  {
   "cell_type": "code",
   "execution_count": 2,
   "metadata": {},
   "outputs": [
    {
     "name": "stdout",
     "output_type": "stream",
     "text": [
      "correct!\n",
      "true\n"
     ]
    }
   ],
   "source": [
    "# control flow; conditioners\n",
    "if 10 > 5:\n",
    "    print(\"correct!\")\n",
    "    \n",
    "a = 10\n",
    "\n",
    "if a == 10:\n",
    "    print(\"true\")"
   ]
  },
  {
   "cell_type": "code",
   "execution_count": 4,
   "metadata": {},
   "outputs": [
    {
     "name": "stdout",
     "output_type": "stream",
     "text": [
      "Here is your money\n"
     ]
    }
   ],
   "source": [
    "password_correct = True\n",
    "if password_correct:\n",
    "    print(\"Here is your money\")\n",
    "else:\n",
    "    print(\"Wrong password\")"
   ]
  },
  {
   "cell_type": "code",
   "execution_count": 5,
   "metadata": {},
   "outputs": [
    {
     "name": "stdout",
     "output_type": "stream",
     "text": [
      "Winner is 10\n"
     ]
    }
   ],
   "source": [
    "winner = 10\n",
    "\n",
    "if winner > 10:\n",
    "    print(\"Winner is greater than 10\")\n",
    "elif winner < 10:\n",
    "    print(\"Winner is less than 10\")\n",
    "else:\n",
    "    print(\"Winner is 10\")"
   ]
  },
  {
   "cell_type": "code",
   "execution_count": null,
   "metadata": {},
   "outputs": [],
   "source": []
  },
  {
   "cell_type": "code",
   "execution_count": null,
   "metadata": {},
   "outputs": [],
   "source": []
  },
  {
   "cell_type": "code",
   "execution_count": null,
   "metadata": {},
   "outputs": [],
   "source": []
  },
  {
   "cell_type": "code",
   "execution_count": null,
   "metadata": {},
   "outputs": [],
   "source": []
  },
  {
   "cell_type": "code",
   "execution_count": null,
   "metadata": {},
   "outputs": [],
   "source": []
  },
  {
   "cell_type": "code",
   "execution_count": null,
   "metadata": {},
   "outputs": [],
   "source": []
  },
  {
   "cell_type": "code",
   "execution_count": null,
   "metadata": {},
   "outputs": [],
   "source": []
  },
  {
   "cell_type": "code",
   "execution_count": null,
   "metadata": {},
   "outputs": [],
   "source": []
  },
  {
   "cell_type": "code",
   "execution_count": null,
   "metadata": {},
   "outputs": [],
   "source": []
  },
  {
   "cell_type": "code",
   "execution_count": null,
   "metadata": {},
   "outputs": [],
   "source": []
  },
  {
   "cell_type": "code",
   "execution_count": null,
   "metadata": {},
   "outputs": [],
   "source": []
  },
  {
   "cell_type": "code",
   "execution_count": null,
   "metadata": {},
   "outputs": [],
   "source": []
  },
  {
   "cell_type": "code",
   "execution_count": null,
   "metadata": {},
   "outputs": [],
   "source": []
  },
  {
   "cell_type": "code",
   "execution_count": null,
   "metadata": {},
   "outputs": [],
   "source": []
  },
  {
   "cell_type": "code",
   "execution_count": null,
   "metadata": {},
   "outputs": [],
   "source": []
  },
  {
   "cell_type": "code",
   "execution_count": null,
   "metadata": {},
   "outputs": [],
   "source": []
  },
  {
   "cell_type": "code",
   "execution_count": null,
   "metadata": {},
   "outputs": [],
   "source": []
  },
  {
   "cell_type": "code",
   "execution_count": null,
   "metadata": {},
   "outputs": [],
   "source": []
  },
  {
   "cell_type": "code",
   "execution_count": null,
   "metadata": {},
   "outputs": [],
   "source": []
  },
  {
   "cell_type": "code",
   "execution_count": null,
   "metadata": {},
   "outputs": [],
   "source": []
  },
  {
   "cell_type": "code",
   "execution_count": null,
   "metadata": {},
   "outputs": [],
   "source": []
  },
  {
   "cell_type": "code",
   "execution_count": null,
   "metadata": {},
   "outputs": [],
   "source": []
  },
  {
   "cell_type": "code",
   "execution_count": null,
   "metadata": {},
   "outputs": [],
   "source": []
  },
  {
   "cell_type": "code",
   "execution_count": null,
   "metadata": {},
   "outputs": [],
   "source": []
  },
  {
   "cell_type": "code",
   "execution_count": null,
   "metadata": {},
   "outputs": [],
   "source": []
  },
  {
   "cell_type": "code",
   "execution_count": null,
   "metadata": {},
   "outputs": [],
   "source": []
  },
  {
   "cell_type": "code",
   "execution_count": null,
   "metadata": {},
   "outputs": [],
   "source": []
  },
  {
   "cell_type": "code",
   "execution_count": null,
   "metadata": {},
   "outputs": [],
   "source": []
  }
 ],
 "metadata": {
  "kernelspec": {
   "display_name": "base",
   "language": "python",
   "name": "python3"
  },
  "language_info": {
   "codemirror_mode": {
    "name": "ipython",
    "version": 3
   },
   "file_extension": ".py",
   "mimetype": "text/x-python",
   "name": "python",
   "nbconvert_exporter": "python",
   "pygments_lexer": "ipython3",
   "version": "3.10.9"
  },
  "orig_nbformat": 4
 },
 "nbformat": 4,
 "nbformat_minor": 2
}
