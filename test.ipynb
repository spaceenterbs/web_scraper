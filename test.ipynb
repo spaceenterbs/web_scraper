{
 "cells": [
  {
   "cell_type": "code",
   "execution_count": 1,
   "metadata": {},
   "outputs": [
    {
     "name": "stdout",
     "output_type": "stream",
     "text": [
      "hell0 world\n"
     ]
    }
   ],
   "source": [
    "print('hell0 world')"
   ]
  },
  {
   "cell_type": "code",
   "execution_count": 2,
   "metadata": {},
   "outputs": [
    {
     "name": "stdout",
     "output_type": "stream",
     "text": [
      "5\n"
     ]
    }
   ],
   "source": [
    "# create variables\n",
    "a = 2 # 메모리 주소로 접근하는 것보다 변수 선언이 좋다.\n",
    "b = 3\n",
    "c = a + b\n",
    "# c = 1 // 1\n",
    "# b = 10 // 5\n",
    "print(c) # 파이썬은 위에서 아래로 읽는다.\n",
    "# my_age // snakecase # 변수는 숫자나 특수문자로 시작하지 못한다.\n",
    "# myAge // camelcase 자스에서 쓰인다."
   ]
  },
  {
   "cell_type": "code",
   "execution_count": 3,
   "metadata": {},
   "outputs": [
    {
     "name": "stdout",
     "output_type": "stream",
     "text": [
      "sick\n"
     ]
    }
   ],
   "source": [
    "my_name = \"sick\"\n",
    "print(my_name)\n",
    "\n",
    "dead = True # or False = boolean"
   ]
  },
  {
   "cell_type": "code",
   "execution_count": 6,
   "metadata": {},
   "outputs": [
    {
     "name": "stdout",
     "output_type": "stream",
     "text": [
      "Hello my name is sick\n",
      "and I'm 30 years old\n",
      "and I'm False years old\n"
     ]
    }
   ],
   "source": [
    "my_name = 'sick'\n",
    "age = 30\n",
    "dead = False\n",
    "print('Hello my name is', my_name)\n",
    "print(\"and I'm\", age, \"years old\") # ,로 나뉘면 한칸씩 띈다.\n",
    "print(\"and I'm\", dead, \"years old\") # ,로 나뉘면 한칸씩 띈다."
   ]
  },
  {
   "cell_type": "code",
   "execution_count": 9,
   "metadata": {},
   "outputs": [
    {
     "name": "stdout",
     "output_type": "stream",
     "text": [
      "1\n",
      "hell0 True 30\n"
     ]
    }
   ],
   "source": [
    "print(1) # function\n",
    "print('hell0', True, 30)"
   ]
  },
  {
   "cell_type": "code",
   "execution_count": 11,
   "metadata": {},
   "outputs": [
    {
     "name": "stdout",
     "output_type": "stream",
     "text": [
      "bye\n",
      "hello how r u?\n"
     ]
    }
   ],
   "source": [
    "def say_hello(): # 함수도 숫자, 특수문자로 시작 X # def = creating 만든다는 개념\n",
    "    print(\"hello how r u?\") # 다른 언어는 괄호에 넣으면 공백은 상관없다.\n",
    "\n",
    "def say_bye():\n",
    "    print(\"bye\") # 실행할 코드가 안에 있다는 것을 알려줌\n",
    "    say_hello() # tab or 2 spaces\n",
    "    \n",
    "say_bye() # 괄호는 시작이고 그 안에 값을 넣으면 ㅣ\n"
   ]
  },
  {
   "cell_type": "code",
   "execution_count": 18,
   "metadata": {},
   "outputs": [
    {
     "name": "stdout",
     "output_type": "stream",
     "text": [
      "hello how r u? sick 12 how are you?\n",
      "hello sick\n",
      "you are 12 years old\n"
     ]
    }
   ],
   "source": [
    "def say_hello(user_name, user_age): # user_name은 함수 내에서만 작동한다.\n",
    "    # parameter = just a placeholder(그릇), 함수로 전달하는 데이터를 저장하기 위한.\n",
    "    # parameter = 함수 안으로 데이터를 보내 함수의 결과를 바꿀 수 있게 해주는 것.\n",
    "    print(\"hello how r u?\", user_name, user_age, \"how are you?\") # comma 사용 가능\n",
    "    print(\"hello\", user_name)\n",
    "    print(\"you are\", user_age, \"years old\") # how many = as many parameter\n",
    "    \n",
    "say_hello(\"sick\", 12) # argument = data"
   ]
  },
  {
   "cell_type": "code",
   "execution_count": 20,
   "metadata": {},
   "outputs": [
    {
     "name": "stdout",
     "output_type": "stream",
     "text": [
      "52.5\n",
      "524999999.99999994\n"
     ]
    }
   ],
   "source": [
    "def tax_calculator(money):\n",
    "    print(money * 0.35) # money를 1500000으로 하는 것이 아닌.\n",
    "    \n",
    "tax_calculator(150)\n",
    "tax_calculator(1500000000)"
   ]
  },
  {
   "cell_type": "code",
   "execution_count": 22,
   "metadata": {},
   "outputs": [
    {
     "name": "stdout",
     "output_type": "stream",
     "text": [
      "hello sick\n",
      "hello anonymous\n"
     ]
    }
   ],
   "source": [
    "def say_hello(user_name=\"anonymous\"): # default value\n",
    "    print(\"hello\", user_name)\n",
    "\n",
    "say_hello(\"sick\")\n",
    "say_hello()"
   ]
  },
  {
   "cell_type": "code",
   "execution_count": 25,
   "metadata": {},
   "outputs": [
    {
     "name": "stdout",
     "output_type": "stream",
     "text": [
      "14\n",
      "2\n",
      "48\n",
      "1.3333333333333333\n",
      "262144\n"
     ]
    }
   ],
   "source": [
    "def plus(a=30, b=10):\n",
    "    print(a + b)\n",
    "    print(a - b)\n",
    "    print(a * b)\n",
    "    print(a / b)\n",
    "    print(a ** b)\n",
    "    \n",
    "# - * / **\n",
    "\n",
    "plus(8, 6)\n"
   ]
  },
  {
   "cell_type": "code",
   "execution_count": null,
   "metadata": {},
   "outputs": [],
   "source": []
  },
  {
   "cell_type": "code",
   "execution_count": null,
   "metadata": {},
   "outputs": [],
   "source": []
  },
  {
   "cell_type": "code",
   "execution_count": null,
   "metadata": {},
   "outputs": [],
   "source": []
  },
  {
   "cell_type": "code",
   "execution_count": null,
   "metadata": {},
   "outputs": [],
   "source": []
  },
  {
   "cell_type": "code",
   "execution_count": null,
   "metadata": {},
   "outputs": [],
   "source": []
  },
  {
   "cell_type": "code",
   "execution_count": null,
   "metadata": {},
   "outputs": [],
   "source": []
  },
  {
   "cell_type": "code",
   "execution_count": null,
   "metadata": {},
   "outputs": [],
   "source": []
  },
  {
   "cell_type": "code",
   "execution_count": null,
   "metadata": {},
   "outputs": [],
   "source": []
  },
  {
   "cell_type": "code",
   "execution_count": null,
   "metadata": {},
   "outputs": [],
   "source": []
  },
  {
   "cell_type": "code",
   "execution_count": null,
   "metadata": {},
   "outputs": [],
   "source": []
  },
  {
   "cell_type": "code",
   "execution_count": null,
   "metadata": {},
   "outputs": [],
   "source": []
  },
  {
   "cell_type": "code",
   "execution_count": null,
   "metadata": {},
   "outputs": [],
   "source": []
  },
  {
   "cell_type": "code",
   "execution_count": null,
   "metadata": {},
   "outputs": [],
   "source": []
  },
  {
   "cell_type": "code",
   "execution_count": null,
   "metadata": {},
   "outputs": [],
   "source": []
  },
  {
   "cell_type": "code",
   "execution_count": null,
   "metadata": {},
   "outputs": [],
   "source": []
  },
  {
   "cell_type": "code",
   "execution_count": null,
   "metadata": {},
   "outputs": [],
   "source": []
  },
  {
   "cell_type": "code",
   "execution_count": null,
   "metadata": {},
   "outputs": [],
   "source": []
  }
 ],
 "metadata": {
  "kernelspec": {
   "display_name": "base",
   "language": "python",
   "name": "python3"
  },
  "language_info": {
   "codemirror_mode": {
    "name": "ipython",
    "version": 3
   },
   "file_extension": ".py",
   "mimetype": "text/x-python",
   "name": "python",
   "nbconvert_exporter": "python",
   "pygments_lexer": "ipython3",
   "version": "3.10.9"
  },
  "orig_nbformat": 4
 },
 "nbformat": 4,
 "nbformat_minor": 2
}
