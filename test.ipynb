{
 "cells": [
  {
   "cell_type": "code",
   "execution_count": 1,
   "metadata": {},
   "outputs": [
    {
     "name": "stdout",
     "output_type": "stream",
     "text": [
      "hell0 world\n"
     ]
    }
   ],
   "source": [
    "print('hell0 world')"
   ]
  },
  {
   "cell_type": "code",
   "execution_count": 2,
   "metadata": {},
   "outputs": [
    {
     "name": "stdout",
     "output_type": "stream",
     "text": [
      "5\n"
     ]
    }
   ],
   "source": [
    "# create variables\n",
    "a = 2 # 메모리 주소로 접근하는 것보다 변수 선언이 좋다.\n",
    "b = 3\n",
    "c = a + b\n",
    "# c = 1 // 1\n",
    "# b = 10 // 5\n",
    "print(c) # 파이썬은 위에서 아래로 읽는다.\n",
    "# my_age // snakecase # 변수는 숫자나 특수문자로 시작하지 못한다.\n",
    "# myAge // camelcase 자스에서 쓰인다."
   ]
  },
  {
   "cell_type": "code",
   "execution_count": 3,
   "metadata": {},
   "outputs": [
    {
     "name": "stdout",
     "output_type": "stream",
     "text": [
      "sick\n"
     ]
    }
   ],
   "source": [
    "my_name = \"sick\"\n",
    "print(my_name)\n",
    "\n",
    "dead = True # or False = boolean"
   ]
  },
  {
   "cell_type": "code",
   "execution_count": 6,
   "metadata": {},
   "outputs": [
    {
     "name": "stdout",
     "output_type": "stream",
     "text": [
      "Hello my name is sick\n",
      "and I'm 30 years old\n",
      "and I'm False years old\n"
     ]
    }
   ],
   "source": [
    "my_name = 'sick'\n",
    "age = 30\n",
    "dead = False\n",
    "print('Hello my name is', my_name)\n",
    "print(\"and I'm\", age, \"years old\") # ,로 나뉘면 한칸씩 띈다.\n",
    "print(\"and I'm\", dead, \"years old\") # ,로 나뉘면 한칸씩 띈다."
   ]
  },
  {
   "cell_type": "code",
   "execution_count": 9,
   "metadata": {},
   "outputs": [
    {
     "name": "stdout",
     "output_type": "stream",
     "text": [
      "1\n",
      "hell0 True 30\n"
     ]
    }
   ],
   "source": [
    "print(1) # function\n",
    "print('hell0', True, 30)"
   ]
  },
  {
   "cell_type": "code",
   "execution_count": 11,
   "metadata": {},
   "outputs": [
    {
     "name": "stdout",
     "output_type": "stream",
     "text": [
      "bye\n",
      "hello how r u?\n"
     ]
    }
   ],
   "source": [
    "def say_hello(): # 함수도 숫자, 특수문자로 시작 X # def = creating 만든다는 개념\n",
    "    print(\"hello how r u?\") # 다른 언어는 괄호에 넣으면 공백은 상관없다.\n",
    "\n",
    "def say_bye():\n",
    "    print(\"bye\") # 실행할 코드가 안에 있다는 것을 알려줌\n",
    "    say_hello() # tab or 2 spaces\n",
    "    \n",
    "say_bye() # 괄호는 시작이고 그 안에 값을 넣으면 ㅣ\n"
   ]
  },
  {
   "cell_type": "code",
   "execution_count": 14,
   "metadata": {},
   "outputs": [
    {
     "name": "stdout",
     "output_type": "stream",
     "text": [
      "hello how r u? 12 how are you?\n"
     ]
    }
   ],
   "source": [
    "def say_hello(user_name): # user_name은 함수 내에서만 작동한다. parameter\n",
    "    print(\"hello how r u?\", user_name, \"how are you?\") # comma 사용 가능\n",
    "    \n",
    "say_hello(12) # argument = data"
   ]
  },
  {
   "cell_type": "code",
   "execution_count": null,
   "metadata": {},
   "outputs": [],
   "source": []
  },
  {
   "cell_type": "code",
   "execution_count": null,
   "metadata": {},
   "outputs": [],
   "source": []
  },
  {
   "cell_type": "code",
   "execution_count": null,
   "metadata": {},
   "outputs": [],
   "source": []
  },
  {
   "cell_type": "code",
   "execution_count": null,
   "metadata": {},
   "outputs": [],
   "source": []
  },
  {
   "cell_type": "code",
   "execution_count": null,
   "metadata": {},
   "outputs": [],
   "source": []
  },
  {
   "cell_type": "code",
   "execution_count": null,
   "metadata": {},
   "outputs": [],
   "source": []
  },
  {
   "cell_type": "code",
   "execution_count": null,
   "metadata": {},
   "outputs": [],
   "source": []
  },
  {
   "cell_type": "code",
   "execution_count": null,
   "metadata": {},
   "outputs": [],
   "source": []
  },
  {
   "cell_type": "code",
   "execution_count": null,
   "metadata": {},
   "outputs": [],
   "source": []
  }
 ],
 "metadata": {
  "kernelspec": {
   "display_name": "base",
   "language": "python",
   "name": "python3"
  },
  "language_info": {
   "codemirror_mode": {
    "name": "ipython",
    "version": 3
   },
   "file_extension": ".py",
   "mimetype": "text/x-python",
   "name": "python",
   "nbconvert_exporter": "python",
   "pygments_lexer": "ipython3",
   "version": "3.10.9"
  },
  "orig_nbformat": 4
 },
 "nbformat": 4,
 "nbformat_minor": 2
}
